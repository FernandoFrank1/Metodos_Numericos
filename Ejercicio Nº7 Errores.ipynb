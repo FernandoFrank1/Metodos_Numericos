{
 "cells": [
  {
   "cell_type": "code",
   "execution_count": 7,
   "metadata": {},
   "outputs": [
    {
     "name": "stdout",
     "output_type": "stream",
     "text": [
      "Suma de las raíces cuadradas desde 1 hasta 100: 671.4629471031477\n",
      "Suma de las raíces cuadradas con hasta 5 decimales: 671.46288\n",
      "El máximo error posible es: 0.00006710314756\n",
      "El máximo error posible (Notacion cientifica): 6.710314755764557e-05\n"
     ]
    }
   ],
   "source": [
    "import math\n",
    "\n",
    "suma_raices_normal = 0\n",
    "suma_raices_5_decimales = 0\n",
    "\n",
    "for i in range(1, 101):\n",
    "    # Calculamos la raíz cuadrada de cada número\n",
    "    raiz = math.sqrt(i)\n",
    "    \n",
    "    # Sumamos la raíz cuadrada al total sin redondear\n",
    "    suma_raices_normal += raiz\n",
    "    \n",
    "    # Redondeamos la raíz cuadrada a 5 lugares decimales y la sumamos a la suma total\n",
    "    suma_raices_5_decimales += round(raiz, 5)\n",
    "\n",
    "print(\"Suma de las raíces cuadradas desde 1 hasta 100:\", suma_raices_normal)\n",
    "print(\"Suma de las raíces cuadradas con hasta 5 decimales: {:.5f}\".format(suma_raices_5_decimales))\n",
    "\n",
    "max_error = abs(suma_raices_normal - suma_raices_5_decimales)\n",
    "\n",
    "print(\"El máximo error posible es: {:.14f}\".format(max_error))\n",
    "print(\"El máximo error posible (Notacion cientifica):\", max_error)"
   ]
  }
 ],
 "metadata": {
  "kernelspec": {
   "display_name": "Python 3",
   "language": "python",
   "name": "python3"
  },
  "language_info": {
   "codemirror_mode": {
    "name": "ipython",
    "version": 3
   },
   "file_extension": ".py",
   "mimetype": "text/x-python",
   "name": "python",
   "nbconvert_exporter": "python",
   "pygments_lexer": "ipython3",
   "version": "3.10.13"
  }
 },
 "nbformat": 4,
 "nbformat_minor": 2
}
