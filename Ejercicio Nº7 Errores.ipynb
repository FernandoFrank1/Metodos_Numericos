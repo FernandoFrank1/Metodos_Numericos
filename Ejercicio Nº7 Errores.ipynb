{
 "cells": [
  {
   "cell_type": "code",
   "execution_count": 16,
   "metadata": {},
   "outputs": [
    {
     "name": "stdout",
     "output_type": "stream",
     "text": [
      "Suma total de raíces cuadradas hasta 100: 671.46295\n",
      "Máximo error posible: 0.0001\n"
     ]
    }
   ],
   "source": [
    "import math\n",
    "\n",
    "# Función para calcular la suma de raíces cuadradas hasta un número dado\n",
    "def suma_raices_cuadradas(n):\n",
    "    suma = 0\n",
    "    for i in range(1, n + 1):\n",
    "        suma += math.sqrt(i)\n",
    "    return suma\n",
    "\n",
    "# Calcular la suma de las raíces cuadradas hasta 100\n",
    "suma_total = suma_raices_cuadradas(100)\n",
    "print(\"Suma total de raíces cuadradas hasta 100:\", round(suma_total, 5))\n",
    "\n",
    "# Calcular el máximo error posible\n",
    "max_error = math.sqrt(100) * 0.00001\n",
    "print(\"Máximo error posible:\", round(max_error, 5)) \n"
   ]
  }
 ],
 "metadata": {
  "kernelspec": {
   "display_name": "Python 3",
   "language": "python",
   "name": "python3"
  },
  "language_info": {
   "codemirror_mode": {
    "name": "ipython",
    "version": 3
   },
   "file_extension": ".py",
   "mimetype": "text/x-python",
   "name": "python",
   "nbconvert_exporter": "python",
   "pygments_lexer": "ipython3",
   "version": "3.10.13"
  }
 },
 "nbformat": 4,
 "nbformat_minor": 2
}
